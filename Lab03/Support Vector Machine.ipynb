{
 "cells": [
  {
   "cell_type": "code",
   "execution_count": 6,
   "metadata": {},
   "outputs": [],
   "source": [
    "from sklearn import datasets\n",
    "import matplotlib.pyplot as plt\n",
    "import pandas as pd\n",
    "import numpy as np\n",
    "\n",
    "digits = datasets.load_digits()"
   ]
  },
  {
   "cell_type": "code",
   "execution_count": 7,
   "metadata": {},
   "outputs": [],
   "source": [
    "from sklearn.model_selection import train_test_split\n",
    "\n",
    "x = digits.data\n",
    "y = digits.target\n",
    "\n",
    "x_train, x_test, y_train, y_test = train_test_split(x, y, test_size=0.2)"
   ]
  },
  {
   "cell_type": "code",
   "execution_count": 26,
   "metadata": {},
   "outputs": [
    {
     "name": "stdout",
     "output_type": "stream",
     "text": [
      "              precision    recall  f1-score   support\n",
      "\n",
      "           0       1.00      1.00      1.00        38\n",
      "           1       0.95      1.00      0.97        39\n",
      "           2       1.00      1.00      1.00        25\n",
      "           3       1.00      0.97      0.99        35\n",
      "           4       1.00      1.00      1.00        38\n",
      "           5       0.97      1.00      0.99        37\n",
      "           6       1.00      0.97      0.99        38\n",
      "           7       0.97      1.00      0.99        33\n",
      "           8       1.00      0.97      0.99        39\n",
      "           9       1.00      0.97      0.99        38\n",
      "\n",
      "    accuracy                           0.99       360\n",
      "   macro avg       0.99      0.99      0.99       360\n",
      "weighted avg       0.99      0.99      0.99       360\n",
      "\n"
     ]
    }
   ],
   "source": [
    "from sklearn import svm\n",
    "from sklearn.metrics import classification_report\n",
    "\n",
    "\n",
    "\n",
    "#for kernel in ['linear', 'poly', 'rbf', 'sigmoid', 'precomputed']:\n",
    "clf = svm.SVC(kernel='poly')\n",
    "clf.fit(x_train, y_train)\n",
    "predict = clf.predict(x_test)\n",
    "\n",
    "report = classification_report(y_test, predict)\n",
    "\n",
    "print(report)"
   ]
  },
  {
   "cell_type": "code",
   "execution_count": 28,
   "metadata": {},
   "outputs": [
    {
     "name": "stdout",
     "output_type": "stream",
     "text": [
      "[('linear', 0.9776518643273028), ('poly', 0.9889223781572096), ('rbf', 0.9861363769874364), ('sigmoid', 0.8893156053143805)]\n"
     ]
    }
   ],
   "source": [
    "f1Scores = []\n",
    "\n",
    "for kernel in ['linear', 'poly', 'rbf', 'sigmoid']:\n",
    "    clf = svm.SVC(kernel=kernel)\n",
    "    clf.fit(x_train, y_train)\n",
    "    predict = clf.predict(x_test)\n",
    "    \n",
    "    report = classification_report(y_test, predict, output_dict=True)\n",
    "    f1score = report['weighted avg']['f1-score']\n",
    "    \n",
    "    f1Scores.append((kernel, f1score))\n",
    "    \n",
    "print(f1Scores)"
   ]
  },
  {
   "cell_type": "markdown",
   "metadata": {},
   "source": [
    "Poly is best classifier for data\n",
    "Followed by rbf and linear\n",
    "Sigmoid is not as good"
   ]
  }
 ],
 "metadata": {
  "kernelspec": {
   "display_name": "Python 3",
   "language": "python",
   "name": "python3"
  },
  "language_info": {
   "codemirror_mode": {
    "name": "ipython",
    "version": 3
   },
   "file_extension": ".py",
   "mimetype": "text/x-python",
   "name": "python",
   "nbconvert_exporter": "python",
   "pygments_lexer": "ipython3",
   "version": "3.7.6"
  }
 },
 "nbformat": 4,
 "nbformat_minor": 4
}
