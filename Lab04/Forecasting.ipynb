{
 "cells": [
  {
   "cell_type": "code",
   "execution_count": 1,
   "metadata": {},
   "outputs": [],
   "source": [
    "import pandas as pd\n",
    "import matplotlib.pyplot as plt\n",
    "import seaborn as sns\n",
    "import numpy as np"
   ]
  },
  {
   "cell_type": "code",
   "execution_count": 2,
   "metadata": {
    "scrolled": false
   },
   "outputs": [
    {
     "data": {
      "text/html": [
       "<div>\n",
       "<style scoped>\n",
       "    .dataframe tbody tr th:only-of-type {\n",
       "        vertical-align: middle;\n",
       "    }\n",
       "\n",
       "    .dataframe tbody tr th {\n",
       "        vertical-align: top;\n",
       "    }\n",
       "\n",
       "    .dataframe thead th {\n",
       "        text-align: right;\n",
       "    }\n",
       "</style>\n",
       "<table border=\"1\" class=\"dataframe\">\n",
       "  <thead>\n",
       "    <tr style=\"text-align: right;\">\n",
       "      <th></th>\n",
       "      <th>Month</th>\n",
       "      <th>Sales</th>\n",
       "    </tr>\n",
       "  </thead>\n",
       "  <tbody>\n",
       "    <tr>\n",
       "      <th>0</th>\n",
       "      <td>1</td>\n",
       "      <td>5384</td>\n",
       "    </tr>\n",
       "    <tr>\n",
       "      <th>1</th>\n",
       "      <td>2</td>\n",
       "      <td>8081</td>\n",
       "    </tr>\n",
       "    <tr>\n",
       "      <th>2</th>\n",
       "      <td>3</td>\n",
       "      <td>10282</td>\n",
       "    </tr>\n",
       "    <tr>\n",
       "      <th>3</th>\n",
       "      <td>4</td>\n",
       "      <td>9156</td>\n",
       "    </tr>\n",
       "    <tr>\n",
       "      <th>4</th>\n",
       "      <td>5</td>\n",
       "      <td>6118</td>\n",
       "    </tr>\n",
       "  </tbody>\n",
       "</table>\n",
       "</div>"
      ],
      "text/plain": [
       "   Month  Sales\n",
       "0      1   5384\n",
       "1      2   8081\n",
       "2      3  10282\n",
       "3      4   9156\n",
       "4      5   6118"
      ]
     },
     "execution_count": 2,
     "metadata": {},
     "output_type": "execute_result"
    }
   ],
   "source": [
    "data = {'Month': [1,2,3,4,5,6,7,8,9,10,11,12], 'Sales': [5384,8081,10282,9156,6118,9139,12460,10717,7825,9693,15177,10990]}\n",
    "df = pd.DataFrame(data=data)\n",
    "df.head()"
   ]
  },
  {
   "cell_type": "code",
   "execution_count": 3,
   "metadata": {},
   "outputs": [
    {
     "data": {
      "text/html": [
       "<div>\n",
       "<style scoped>\n",
       "    .dataframe tbody tr th:only-of-type {\n",
       "        vertical-align: middle;\n",
       "    }\n",
       "\n",
       "    .dataframe tbody tr th {\n",
       "        vertical-align: top;\n",
       "    }\n",
       "\n",
       "    .dataframe thead th {\n",
       "        text-align: right;\n",
       "    }\n",
       "</style>\n",
       "<table border=\"1\" class=\"dataframe\">\n",
       "  <thead>\n",
       "    <tr style=\"text-align: right;\">\n",
       "      <th></th>\n",
       "      <th>Month</th>\n",
       "      <th>Sales</th>\n",
       "      <th>NMA_3</th>\n",
       "    </tr>\n",
       "  </thead>\n",
       "  <tbody>\n",
       "    <tr>\n",
       "      <th>0</th>\n",
       "      <td>1.0</td>\n",
       "      <td>5384.0</td>\n",
       "      <td>0.0</td>\n",
       "    </tr>\n",
       "    <tr>\n",
       "      <th>1</th>\n",
       "      <td>2.0</td>\n",
       "      <td>8081.0</td>\n",
       "      <td>0.0</td>\n",
       "    </tr>\n",
       "    <tr>\n",
       "      <th>2</th>\n",
       "      <td>3.0</td>\n",
       "      <td>10282.0</td>\n",
       "      <td>0.0</td>\n",
       "    </tr>\n",
       "    <tr>\n",
       "      <th>3</th>\n",
       "      <td>4.0</td>\n",
       "      <td>9156.0</td>\n",
       "      <td>7915.7</td>\n",
       "    </tr>\n",
       "    <tr>\n",
       "      <th>4</th>\n",
       "      <td>5.0</td>\n",
       "      <td>6118.0</td>\n",
       "      <td>9173.0</td>\n",
       "    </tr>\n",
       "    <tr>\n",
       "      <th>5</th>\n",
       "      <td>6.0</td>\n",
       "      <td>9139.0</td>\n",
       "      <td>8518.7</td>\n",
       "    </tr>\n",
       "    <tr>\n",
       "      <th>6</th>\n",
       "      <td>7.0</td>\n",
       "      <td>12460.0</td>\n",
       "      <td>8137.7</td>\n",
       "    </tr>\n",
       "    <tr>\n",
       "      <th>7</th>\n",
       "      <td>8.0</td>\n",
       "      <td>10717.0</td>\n",
       "      <td>9239.0</td>\n",
       "    </tr>\n",
       "    <tr>\n",
       "      <th>8</th>\n",
       "      <td>9.0</td>\n",
       "      <td>7825.0</td>\n",
       "      <td>10772.0</td>\n",
       "    </tr>\n",
       "    <tr>\n",
       "      <th>9</th>\n",
       "      <td>10.0</td>\n",
       "      <td>9693.0</td>\n",
       "      <td>10334.0</td>\n",
       "    </tr>\n",
       "    <tr>\n",
       "      <th>10</th>\n",
       "      <td>11.0</td>\n",
       "      <td>15177.0</td>\n",
       "      <td>9411.7</td>\n",
       "    </tr>\n",
       "    <tr>\n",
       "      <th>11</th>\n",
       "      <td>12.0</td>\n",
       "      <td>10990.0</td>\n",
       "      <td>10898.3</td>\n",
       "    </tr>\n",
       "    <tr>\n",
       "      <th>12</th>\n",
       "      <td>NaN</td>\n",
       "      <td>NaN</td>\n",
       "      <td>11953.3</td>\n",
       "    </tr>\n",
       "    <tr>\n",
       "      <th>13</th>\n",
       "      <td>NaN</td>\n",
       "      <td>NaN</td>\n",
       "      <td>8722.3</td>\n",
       "    </tr>\n",
       "    <tr>\n",
       "      <th>14</th>\n",
       "      <td>NaN</td>\n",
       "      <td>NaN</td>\n",
       "      <td>3663.3</td>\n",
       "    </tr>\n",
       "    <tr>\n",
       "      <th>15</th>\n",
       "      <td>NaN</td>\n",
       "      <td>NaN</td>\n",
       "      <td>0.0</td>\n",
       "    </tr>\n",
       "  </tbody>\n",
       "</table>\n",
       "</div>"
      ],
      "text/plain": [
       "    Month    Sales    NMA_3\n",
       "0     1.0   5384.0      0.0\n",
       "1     2.0   8081.0      0.0\n",
       "2     3.0  10282.0      0.0\n",
       "3     4.0   9156.0   7915.7\n",
       "4     5.0   6118.0   9173.0\n",
       "5     6.0   9139.0   8518.7\n",
       "6     7.0  12460.0   8137.7\n",
       "7     8.0  10717.0   9239.0\n",
       "8     9.0   7825.0  10772.0\n",
       "9    10.0   9693.0  10334.0\n",
       "10   11.0  15177.0   9411.7\n",
       "11   12.0  10990.0  10898.3\n",
       "12    NaN      NaN  11953.3\n",
       "13    NaN      NaN   8722.3\n",
       "14    NaN      NaN   3663.3\n",
       "15    NaN      NaN      0.0"
      ]
     },
     "execution_count": 3,
     "metadata": {},
     "output_type": "execute_result"
    }
   ],
   "source": [
    "NMA_3 = []\n",
    "k=3\n",
    "for t in range(0, 16):\n",
    "    NMA_3.append(np.round(sum(df.iloc[t-k:t, 1])/k, 1))\n",
    "\n",
    "s = pd.Series(NMA_3, name='NMA_3')\n",
    "df = pd.concat([df, s], axis=1 ,sort=False)\n",
    "df"
   ]
  },
  {
   "cell_type": "code",
   "execution_count": 4,
   "metadata": {
    "scrolled": false
   },
   "outputs": [
    {
     "data": {
      "text/plain": [
       "[<matplotlib.lines.Line2D at 0x7f5ef222e2d0>]"
      ]
     },
     "execution_count": 4,
     "metadata": {},
     "output_type": "execute_result"
    },
    {
     "data": {
      "image/png": "[encoded data removed]",
      "text/plain": [
       "<Figure size 432x288 with 1 Axes>"
      ]
     },
     "metadata": {
      "needs_background": "light"
     },
     "output_type": "display_data"
    }
   ],
   "source": [
    "plt.figure()\n",
    "plt.plot(df['Sales'], label='data')\n",
    "plt.plot(df['NMA_3'], label='NMA 3 Months')\n"
   ]
  },
  {
   "cell_type": "markdown",
   "metadata": {},
   "source": [
    "## Questions about moving average\n",
    "How do you use to predict further months when only looking at past 3 months? No data to go off?\n",
    "I am only really predicting one month into the future, are we meant to use the predicitons as data points?\n",
    "I cant find in lecture slides or online how to do this."
   ]
  },
  {
   "cell_type": "markdown",
   "metadata": {},
   "source": [
    "## exponential smoothing"
   ]
  },
  {
   "cell_type": "code",
   "execution_count": 43,
   "metadata": {},
   "outputs": [
    {
     "data": {
      "text/html": [
       "<div>\n",
       "<style scoped>\n",
       "    .dataframe tbody tr th:only-of-type {\n",
       "        vertical-align: middle;\n",
       "    }\n",
       "\n",
       "    .dataframe tbody tr th {\n",
       "        vertical-align: top;\n",
       "    }\n",
       "\n",
       "    .dataframe thead th {\n",
       "        text-align: right;\n",
       "    }\n",
       "</style>\n",
       "<table border=\"1\" class=\"dataframe\">\n",
       "  <thead>\n",
       "    <tr style=\"text-align: right;\">\n",
       "      <th></th>\n",
       "      <th>Month</th>\n",
       "      <th>Sales</th>\n",
       "    </tr>\n",
       "  </thead>\n",
       "  <tbody>\n",
       "    <tr>\n",
       "      <th>0</th>\n",
       "      <td>1</td>\n",
       "      <td>5384</td>\n",
       "    </tr>\n",
       "    <tr>\n",
       "      <th>1</th>\n",
       "      <td>2</td>\n",
       "      <td>8081</td>\n",
       "    </tr>\n",
       "    <tr>\n",
       "      <th>2</th>\n",
       "      <td>3</td>\n",
       "      <td>10282</td>\n",
       "    </tr>\n",
       "    <tr>\n",
       "      <th>3</th>\n",
       "      <td>4</td>\n",
       "      <td>9156</td>\n",
       "    </tr>\n",
       "    <tr>\n",
       "      <th>4</th>\n",
       "      <td>5</td>\n",
       "      <td>6118</td>\n",
       "    </tr>\n",
       "  </tbody>\n",
       "</table>\n",
       "</div>"
      ],
      "text/plain": [
       "   Month  Sales\n",
       "0      1   5384\n",
       "1      2   8081\n",
       "2      3  10282\n",
       "3      4   9156\n",
       "4      5   6118"
      ]
     },
     "execution_count": 43,
     "metadata": {},
     "output_type": "execute_result"
    }
   ],
   "source": [
    "data = {'Month': [1,2,3,4,5,6,7,8,9,10,11,12], 'Sales': [5384,8081,10282,9156,6118,9139,12460,10717,7825,9693,15177,10990]}\n",
    "df2 = pd.DataFrame(data=data)\n",
    "df2.head()"
   ]
  },
  {
   "cell_type": "code",
   "execution_count": 44,
   "metadata": {},
   "outputs": [],
   "source": [
    "Alpha = [0.2, 0.5, 0.8]\n",
    "\n",
    "#Predict+1 = Alpha*Actual + (1-alpha)*predict\n",
    "\n",
    "for A in Alpha:\n",
    "    ES = [np.nan]\n",
    "    col = \"{}ES\".format(A)    \n",
    "    \n",
    "    for i in range(1, df2.shape[0]+1):\n",
    "        if np.isnan(ES[i-1]):\n",
    "            predict = A*df2.iloc[i-1][1]\n",
    "            #Check if no previous prediction\n",
    "        else:\n",
    "            predict = A*df2.iloc[i-1][1] + (1-A)*ES[i-1]\n",
    "        ES.append(round(predict,1))\n",
    "    s = pd.Series(ES, name=col)\n",
    "    df2 = pd.concat([df2, s], axis=1, sort=False)\n",
    "        "
   ]
  },
  {
   "cell_type": "code",
   "execution_count": 45,
   "metadata": {
    "scrolled": false
   },
   "outputs": [
    {
     "data": {
      "text/html": [
       "<div>\n",
       "<style scoped>\n",
       "    .dataframe tbody tr th:only-of-type {\n",
       "        vertical-align: middle;\n",
       "    }\n",
       "\n",
       "    .dataframe tbody tr th {\n",
       "        vertical-align: top;\n",
       "    }\n",
       "\n",
       "    .dataframe thead th {\n",
       "        text-align: right;\n",
       "    }\n",
       "</style>\n",
       "<table border=\"1\" class=\"dataframe\">\n",
       "  <thead>\n",
       "    <tr style=\"text-align: right;\">\n",
       "      <th></th>\n",
       "      <th>Month</th>\n",
       "      <th>Sales</th>\n",
       "      <th>0.2ES</th>\n",
       "      <th>0.5ES</th>\n",
       "      <th>0.8ES</th>\n",
       "    </tr>\n",
       "  </thead>\n",
       "  <tbody>\n",
       "    <tr>\n",
       "      <th>0</th>\n",
       "      <td>1.0</td>\n",
       "      <td>5384.0</td>\n",
       "      <td>NaN</td>\n",
       "      <td>NaN</td>\n",
       "      <td>NaN</td>\n",
       "    </tr>\n",
       "    <tr>\n",
       "      <th>1</th>\n",
       "      <td>2.0</td>\n",
       "      <td>8081.0</td>\n",
       "      <td>1076.8</td>\n",
       "      <td>2692.0</td>\n",
       "      <td>4307.2</td>\n",
       "    </tr>\n",
       "    <tr>\n",
       "      <th>2</th>\n",
       "      <td>3.0</td>\n",
       "      <td>10282.0</td>\n",
       "      <td>2477.6</td>\n",
       "      <td>5386.5</td>\n",
       "      <td>7326.2</td>\n",
       "    </tr>\n",
       "    <tr>\n",
       "      <th>3</th>\n",
       "      <td>4.0</td>\n",
       "      <td>9156.0</td>\n",
       "      <td>4038.5</td>\n",
       "      <td>7834.2</td>\n",
       "      <td>9690.8</td>\n",
       "    </tr>\n",
       "    <tr>\n",
       "      <th>4</th>\n",
       "      <td>5.0</td>\n",
       "      <td>6118.0</td>\n",
       "      <td>5062.0</td>\n",
       "      <td>8495.1</td>\n",
       "      <td>9263.0</td>\n",
       "    </tr>\n",
       "    <tr>\n",
       "      <th>5</th>\n",
       "      <td>6.0</td>\n",
       "      <td>9139.0</td>\n",
       "      <td>5273.2</td>\n",
       "      <td>7306.6</td>\n",
       "      <td>6747.0</td>\n",
       "    </tr>\n",
       "    <tr>\n",
       "      <th>6</th>\n",
       "      <td>7.0</td>\n",
       "      <td>12460.0</td>\n",
       "      <td>6046.4</td>\n",
       "      <td>8222.8</td>\n",
       "      <td>8660.6</td>\n",
       "    </tr>\n",
       "    <tr>\n",
       "      <th>7</th>\n",
       "      <td>8.0</td>\n",
       "      <td>10717.0</td>\n",
       "      <td>7329.1</td>\n",
       "      <td>10341.4</td>\n",
       "      <td>11700.1</td>\n",
       "    </tr>\n",
       "    <tr>\n",
       "      <th>8</th>\n",
       "      <td>9.0</td>\n",
       "      <td>7825.0</td>\n",
       "      <td>8006.7</td>\n",
       "      <td>10529.2</td>\n",
       "      <td>10913.6</td>\n",
       "    </tr>\n",
       "    <tr>\n",
       "      <th>9</th>\n",
       "      <td>10.0</td>\n",
       "      <td>9693.0</td>\n",
       "      <td>7970.4</td>\n",
       "      <td>9177.1</td>\n",
       "      <td>8442.7</td>\n",
       "    </tr>\n",
       "    <tr>\n",
       "      <th>10</th>\n",
       "      <td>11.0</td>\n",
       "      <td>15177.0</td>\n",
       "      <td>8314.9</td>\n",
       "      <td>9435.0</td>\n",
       "      <td>9442.9</td>\n",
       "    </tr>\n",
       "    <tr>\n",
       "      <th>11</th>\n",
       "      <td>12.0</td>\n",
       "      <td>10990.0</td>\n",
       "      <td>9687.3</td>\n",
       "      <td>12306.0</td>\n",
       "      <td>14030.2</td>\n",
       "    </tr>\n",
       "    <tr>\n",
       "      <th>12</th>\n",
       "      <td>NaN</td>\n",
       "      <td>NaN</td>\n",
       "      <td>9947.8</td>\n",
       "      <td>11648.0</td>\n",
       "      <td>11598.0</td>\n",
       "    </tr>\n",
       "    <tr>\n",
       "      <th>13</th>\n",
       "      <td>NaN</td>\n",
       "      <td>NaN</td>\n",
       "      <td>NaN</td>\n",
       "      <td>NaN</td>\n",
       "      <td>NaN</td>\n",
       "    </tr>\n",
       "    <tr>\n",
       "      <th>14</th>\n",
       "      <td>NaN</td>\n",
       "      <td>NaN</td>\n",
       "      <td>NaN</td>\n",
       "      <td>NaN</td>\n",
       "      <td>NaN</td>\n",
       "    </tr>\n",
       "  </tbody>\n",
       "</table>\n",
       "</div>"
      ],
      "text/plain": [
       "    Month    Sales   0.2ES    0.5ES    0.8ES\n",
       "0     1.0   5384.0     NaN      NaN      NaN\n",
       "1     2.0   8081.0  1076.8   2692.0   4307.2\n",
       "2     3.0  10282.0  2477.6   5386.5   7326.2\n",
       "3     4.0   9156.0  4038.5   7834.2   9690.8\n",
       "4     5.0   6118.0  5062.0   8495.1   9263.0\n",
       "5     6.0   9139.0  5273.2   7306.6   6747.0\n",
       "6     7.0  12460.0  6046.4   8222.8   8660.6\n",
       "7     8.0  10717.0  7329.1  10341.4  11700.1\n",
       "8     9.0   7825.0  8006.7  10529.2  10913.6\n",
       "9    10.0   9693.0  7970.4   9177.1   8442.7\n",
       "10   11.0  15177.0  8314.9   9435.0   9442.9\n",
       "11   12.0  10990.0  9687.3  12306.0  14030.2\n",
       "12    NaN      NaN  9947.8  11648.0  11598.0\n",
       "13    NaN      NaN     NaN      NaN      NaN\n",
       "14    NaN      NaN     NaN      NaN      NaN"
      ]
     },
     "execution_count": 45,
     "metadata": {},
     "output_type": "execute_result"
    }
   ],
   "source": [
    "df2"
   ]
  },
  {
   "cell_type": "code",
   "execution_count": 46,
   "metadata": {},
   "outputs": [
    {
     "data": {
      "text/plain": [
       "<matplotlib.legend.Legend at 0x7f5ef1578f90>"
      ]
     },
     "execution_count": 46,
     "metadata": {},
     "output_type": "execute_result"
    },
    {
     "data": {
      "image/png": "[encoded data removed]",
      "text/plain": [
       "<Figure size 432x288 with 1 Axes>"
      ]
     },
     "metadata": {
      "needs_background": "light"
     },
     "output_type": "display_data"
    }
   ],
   "source": [
    "plt.figure()\n",
    "plt.plot(df2['Sales'], label='data', marker=\".\")\n",
    "plt.plot(df2['0.2ES'], label='a = 0.2', marker=\".\")\n",
    "plt.plot(df2['0.5ES'], label='a = 0.5', marker=\".\")\n",
    "plt.plot(df2['0.8ES'], label='a = 0.8', marker=\".\")\n",
    "plt.legend(loc='best')"
   ]
  },
  {
   "cell_type": "markdown",
   "metadata": {},
   "source": [
    "# Seasonality"
   ]
  },
  {
   "cell_type": "code",
   "execution_count": 42,
   "metadata": {},
   "outputs": [
    {
     "data": {
      "text/html": [
       "<div>\n",
       "<style scoped>\n",
       "    .dataframe tbody tr th:only-of-type {\n",
       "        vertical-align: middle;\n",
       "    }\n",
       "\n",
       "    .dataframe tbody tr th {\n",
       "        vertical-align: top;\n",
       "    }\n",
       "\n",
       "    .dataframe thead th {\n",
       "        text-align: right;\n",
       "    }\n",
       "</style>\n",
       "<table border=\"1\" class=\"dataframe\">\n",
       "  <thead>\n",
       "    <tr style=\"text-align: right;\">\n",
       "      <th></th>\n",
       "      <th>Month</th>\n",
       "      <th>Sales</th>\n",
       "    </tr>\n",
       "  </thead>\n",
       "  <tbody>\n",
       "    <tr>\n",
       "      <th>0</th>\n",
       "      <td>1</td>\n",
       "      <td>5384</td>\n",
       "    </tr>\n",
       "    <tr>\n",
       "      <th>1</th>\n",
       "      <td>2</td>\n",
       "      <td>8081</td>\n",
       "    </tr>\n",
       "    <tr>\n",
       "      <th>2</th>\n",
       "      <td>3</td>\n",
       "      <td>10282</td>\n",
       "    </tr>\n",
       "    <tr>\n",
       "      <th>3</th>\n",
       "      <td>4</td>\n",
       "      <td>9156</td>\n",
       "    </tr>\n",
       "    <tr>\n",
       "      <th>4</th>\n",
       "      <td>5</td>\n",
       "      <td>6118</td>\n",
       "    </tr>\n",
       "  </tbody>\n",
       "</table>\n",
       "</div>"
      ],
      "text/plain": [
       "   Month  Sales\n",
       "0      1   5384\n",
       "1      2   8081\n",
       "2      3  10282\n",
       "3      4   9156\n",
       "4      5   6118"
      ]
     },
     "execution_count": 42,
     "metadata": {},
     "output_type": "execute_result"
    }
   ],
   "source": [
    "data = {'Month': [1,2,3,4,5,6,7,8,9,10,11,12], 'Sales': [5384,8081,10282,9156,6118,9139,12460,10717,7825,9693,15177,10990]}\n",
    "df3 = pd.DataFrame(data=data)\n",
    "df3.head()"
   ]
  },
  {
   "cell_type": "code",
   "execution_count": 85,
   "metadata": {},
   "outputs": [
    {
     "name": "stdout",
     "output_type": "stream",
     "text": [
      "Season Averages: \n",
      "S1: 32903, S2: 38434, S3: 43685\n",
      "\n",
      "Season Average: 38340.666666666664\n",
      "\n",
      "Season Index's:\n",
      "S1: 32903, S2: 38434, S3: 43685\n",
      "\n"
     ]
    }
   ],
   "source": [
    "s1 = df3['Sales'][0:4].sum()\n",
    "s2 = df3['Sales'][4:8].sum()\n",
    "s3 = df3['Sales'][8:12].sum()\n",
    "\n",
    "print(\"Season Averages: \\nS1: {}, S2: {}, S3: {}\\n\".format(s1, s2, s3))\n",
    "\n",
    "sAvg = (s1+s2+s3)/3\n",
    "print(\"Season Average: {}\\n\".format(sAvg))\n",
    "\n",
    "s1_index = s1/sAvg\n",
    "s2_index = s2/sAvg\n",
    "s3_index = s3/sAvg\n",
    "\n",
    "print(\"Season Index's:\\nS1: {}, S2: {}, S3: {}\\n\".format(s1, s2, s3))"
   ]
  }
 ],
 "metadata": {
  "kernelspec": {
   "display_name": "Python 3",
   "language": "python",
   "name": "python3"
  },
  "language_info": {
   "codemirror_mode": {
    "name": "ipython",
    "version": 3
   },
   "file_extension": ".py",
   "mimetype": "text/x-python",
   "name": "python",
   "nbconvert_exporter": "python",
   "pygments_lexer": "ipython3",
   "version": "3.7.6"
  }
 },
 "nbformat": 4,
 "nbformat_minor": 4
}
